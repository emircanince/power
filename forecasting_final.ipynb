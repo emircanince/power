{
 "cells": [
  {
   "cell_type": "code",
   "execution_count": 1,
   "id": "fb447324",
   "metadata": {},
   "outputs": [
    {
     "data": {
      "text/html": [
       "<div>\n",
       "<style scoped>\n",
       "    .dataframe tbody tr th:only-of-type {\n",
       "        vertical-align: middle;\n",
       "    }\n",
       "\n",
       "    .dataframe tbody tr th {\n",
       "        vertical-align: top;\n",
       "    }\n",
       "\n",
       "    .dataframe thead th {\n",
       "        text-align: right;\n",
       "    }\n",
       "</style>\n",
       "<table border=\"1\" class=\"dataframe\">\n",
       "  <thead>\n",
       "    <tr style=\"text-align: right;\">\n",
       "      <th></th>\n",
       "    </tr>\n",
       "  </thead>\n",
       "  <tbody>\n",
       "  </tbody>\n",
       "</table>\n",
       "</div>"
      ],
      "text/plain": [
       "Empty DataFrame\n",
       "Columns: []\n",
       "Index: []"
      ]
     },
     "execution_count": 1,
     "metadata": {},
     "output_type": "execute_result"
    }
   ],
   "source": [
    "# TimeXer\n",
    "\n",
    "import subprocess, os, re, pandas as pd\n",
    "\n",
    "pred_lengths = [24, 48, 96, 168]\n",
    "records = []\n",
    "\n",
    "for pred in pred_lengths:\n",
    "    model_id = f\"TimeXer_168_{pred}\"\n",
    "    res = subprocess.run(\n",
    "        f\"bash scripts/TimeXer.sh --pred_len {pred} --model_id {model_id}\",\n",
    "        shell=True, capture_output=True, text=True,\n",
    "        env={**os.environ, \"CUDA_VISIBLE_DEVICES\": \"0\"}\n",
    "    )\n",
    "    m = re.search(r\"mse[:\\s]*([\\d.eE+-]+).*mae[:\\s]*([\\d.eE+-]+)\", res.stdout, re.I | re.S)\n",
    "    if m:\n",
    "        mse, mae = map(float, m.groups())\n",
    "        records.append({\"model_id\": model_id, \"MSE\": mse, \"MAE\": mae})\n",
    "\n",
    "df1 = pd.DataFrame(records)\n",
    "df1"
   ]
  },
  {
   "cell_type": "code",
   "execution_count": 2,
   "id": "03985e18",
   "metadata": {},
   "outputs": [
    {
     "data": {
      "text/html": [
       "<div>\n",
       "<style scoped>\n",
       "    .dataframe tbody tr th:only-of-type {\n",
       "        vertical-align: middle;\n",
       "    }\n",
       "\n",
       "    .dataframe tbody tr th {\n",
       "        vertical-align: top;\n",
       "    }\n",
       "\n",
       "    .dataframe thead th {\n",
       "        text-align: right;\n",
       "    }\n",
       "</style>\n",
       "<table border=\"1\" class=\"dataframe\">\n",
       "  <thead>\n",
       "    <tr style=\"text-align: right;\">\n",
       "      <th></th>\n",
       "    </tr>\n",
       "  </thead>\n",
       "  <tbody>\n",
       "  </tbody>\n",
       "</table>\n",
       "</div>"
      ],
      "text/plain": [
       "Empty DataFrame\n",
       "Columns: []\n",
       "Index: []"
      ]
     },
     "execution_count": 2,
     "metadata": {},
     "output_type": "execute_result"
    }
   ],
   "source": [
    "# iTransformer\n",
    "\n",
    "import subprocess, os, re, pandas as pd\n",
    "\n",
    "pred_lengths = [24, 48, 96, 168]\n",
    "records = []\n",
    "\n",
    "for pred in pred_lengths:\n",
    "    model_id = f\"iTransformer_168_{pred}\"\n",
    "    res = subprocess.run(\n",
    "        f\"bash scripts/iTransformer.sh --pred_len {pred} --model_id {model_id}\",\n",
    "        shell=True, capture_output=True, text=True,\n",
    "        env={**os.environ, \"CUDA_VISIBLE_DEVICES\": \"0\"}\n",
    "    )\n",
    "    m = re.search(r\"mse[:\\s]*([\\d.eE+-]+).*mae[:\\s]*([\\d.eE+-]+)\", res.stdout, re.I | re.S)\n",
    "    if m:\n",
    "        mse, mae = map(float, m.groups())\n",
    "        records.append({\"model_id\": model_id, \"MSE\": mse, \"MAE\": mae})\n",
    "\n",
    "df2 = pd.DataFrame(records)\n",
    "df2"
   ]
  },
  {
   "cell_type": "code",
   "execution_count": null,
   "id": "98cde47e",
   "metadata": {},
   "outputs": [],
   "source": [
    "# PatchTST\n",
    "\n",
    "import subprocess, os, re, pandas as pd\n",
    "\n",
    "pred_lengths = [24, 48, 96, 168]\n",
    "records = []\n",
    "\n",
    "for pred in pred_lengths:\n",
    "    model_id = f\"PatchTST_168_{pred}\"\n",
    "    res = subprocess.run(\n",
    "        f\"bash scripts/PatchTST.sh --pred_len {pred} --model_id {model_id}\",\n",
    "        shell=True, capture_output=True, text=True,\n",
    "        env={**os.environ, \"CUDA_VISIBLE_DEVICES\": \"0\"}\n",
    "    )\n",
    "    m = re.search(r\"mse[:\\s]*([\\d.eE+-]+).*mae[:\\s]*([\\d.eE+-]+)\", res.stdout, re.I | re.S)\n",
    "    if m:\n",
    "        mse, mae = map(float, m.groups())\n",
    "        records.append({\"model_id\": model_id, \"MSE\": mse, \"MAE\": mae})\n",
    "\n",
    "df3 = pd.DataFrame(records)\n",
    "df3"
   ]
  },
  {
   "cell_type": "code",
   "execution_count": null,
   "id": "419c4903",
   "metadata": {},
   "outputs": [],
   "source": [
    "# DLinear\n",
    "\n",
    "import subprocess, os, re, pandas as pd\n",
    "\n",
    "pred_lengths = [24, 48, 96, 168]\n",
    "records = []\n",
    "\n",
    "for pred in pred_lengths:\n",
    "    model_id = f\"DLinear_168_{pred}\"\n",
    "    res = subprocess.run(\n",
    "        f\"bash scripts/DLinear.sh --pred_len {pred} --model_id {model_id}\",\n",
    "        shell=True, capture_output=True, text=True,\n",
    "        env={**os.environ, \"CUDA_VISIBLE_DEVICES\": \"0\"}\n",
    "    )\n",
    "    m = re.search(r\"mse[:\\s]*([\\d.eE+-]+).*mae[:\\s]*([\\d.eE+-]+)\", res.stdout, re.I | re.S)\n",
    "    if m:\n",
    "        mse, mae = map(float, m.groups())\n",
    "        records.append({\"model_id\": model_id, \"MSE\": mse, \"MAE\": mae})\n",
    "\n",
    "df4 = pd.DataFrame(records)\n",
    "df4"
   ]
  },
  {
   "cell_type": "code",
   "execution_count": null,
   "id": "f073213c",
   "metadata": {},
   "outputs": [],
   "source": [
    "# SCINet\n",
    "\n",
    "import subprocess, os, re, pandas as pd\n",
    "\n",
    "pred_lengths = [24, 48, 96, 168]\n",
    "records = []\n",
    "\n",
    "for pred in pred_lengths:\n",
    "    model_id = f\"SCINet_168_{pred}\"\n",
    "    res = subprocess.run(\n",
    "        f\"bash scripts/SCINet.sh --pred_len {pred} --model_id {model_id}\",\n",
    "        shell=True, capture_output=True, text=True,\n",
    "        env={**os.environ, \"CUDA_VISIBLE_DEVICES\": \"0\"}\n",
    "    )\n",
    "    m = re.search(r\"mse[:\\s]*([\\d.eE+-]+).*mae[:\\s]*([\\d.eE+-]+)\", res.stdout, re.I | re.S)\n",
    "    if m:\n",
    "        mse, mae = map(float, m.groups())\n",
    "        records.append({\"model_id\": model_id, \"MSE\": mse, \"MAE\": mae})\n",
    "\n",
    "df5 = pd.DataFrame(records)\n",
    "df5"
   ]
  },
  {
   "cell_type": "code",
   "execution_count": null,
   "id": "aeccee91",
   "metadata": {},
   "outputs": [],
   "source": [
    "# Autoformer\n",
    "\n",
    "import subprocess, os, re, pandas as pd\n",
    "\n",
    "pred_lengths = [24, 48, 96, 168]\n",
    "records = []\n",
    "\n",
    "for pred in pred_lengths:\n",
    "    model_id = f\"Autoformer_168_{pred}\"\n",
    "    res = subprocess.run(\n",
    "        f\"bash scripts/Autoformer.sh --pred_len {pred} --model_id {model_id}\",\n",
    "        shell=True, capture_output=True, text=True,\n",
    "        env={**os.environ, \"CUDA_VISIBLE_DEVICES\": \"0\"}\n",
    "    )\n",
    "    m = re.search(r\"mse[:\\s]*([\\d.eE+-]+).*mae[:\\s]*([\\d.eE+-]+)\", res.stdout, re.I | re.S)\n",
    "    if m:\n",
    "        mse, mae = map(float, m.groups())\n",
    "        records.append({\"model_id\": model_id, \"MSE\": mse, \"MAE\": mae})\n",
    "\n",
    "df6 = pd.DataFrame(records)\n",
    "df6"
   ]
  },
  {
   "cell_type": "code",
   "execution_count": null,
   "id": "a3b2f33b",
   "metadata": {},
   "outputs": [],
   "source": [
    "import pandas as pd\n",
    "\n",
    "df_list = [df1, df2, df3, df4, df5, df6]\n",
    "\n",
    "df = pd.concat(df_list, ignore_index=True)\n",
    "\n",
    "df.to_csv('pred_len.csv', index=False)"
   ]
  }
 ],
 "metadata": {
  "kernelspec": {
   "display_name": ".venv",
   "language": "python",
   "name": "python3"
  },
  "language_info": {
   "codemirror_mode": {
    "name": "ipython",
    "version": 3
   },
   "file_extension": ".py",
   "mimetype": "text/x-python",
   "name": "python",
   "nbconvert_exporter": "python",
   "pygments_lexer": "ipython3",
   "version": "3.9.21"
  }
 },
 "nbformat": 4,
 "nbformat_minor": 5
}
