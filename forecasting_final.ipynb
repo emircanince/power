{
 "cells": [
  {
   "cell_type": "code",
   "execution_count": null,
   "id": "fb447324",
   "metadata": {},
   "outputs": [],
   "source": [
    "import subprocess, os, re, pandas as pd\n",
    "\n",
    "pred_lengths = [24, 48, 96, 168]\n",
    "records = []\n",
    "\n",
    "for pred in pred_lengths:\n",
    "    model_id = f\"TimeXer_168_{pred}\"\n",
    "    res = subprocess.run(\n",
    "        f\"bash scripts/TimeXer.sh --pred_len {pred} --model_id {model_id}\",\n",
    "        shell=True, capture_output=True, text=True,\n",
    "        env={**os.environ, \"CUDA_VISIBLE_DEVICES\": \"0\"}\n",
    "    )\n",
    "    m = re.search(r\"mse[:\\s]*([\\d.eE+-]+).*mae[:\\s]*([\\d.eE+-]+)\", res.stdout, re.I | re.S)\n",
    "    if m:\n",
    "        mse, mae = map(float, m.groups())\n",
    "        records.append({\"model_id\": model_id, \"MSE\": mse, \"MAE\": mae})\n",
    "\n",
    "df = pd.DataFrame(records)\n",
    "df"
   ]
  }
 ],
 "metadata": {
  "language_info": {
   "name": "python"
  }
 },
 "nbformat": 4,
 "nbformat_minor": 5
}
