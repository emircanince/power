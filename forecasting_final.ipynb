{
 "cells": [
  {
   "cell_type": "code",
   "execution_count": 1,
   "id": "fb447324",
   "metadata": {},
   "outputs": [
    {
     "data": {
      "text/html": [
       "<div>\n",
       "<style scoped>\n",
       "    .dataframe tbody tr th:only-of-type {\n",
       "        vertical-align: middle;\n",
       "    }\n",
       "\n",
       "    .dataframe tbody tr th {\n",
       "        vertical-align: top;\n",
       "    }\n",
       "\n",
       "    .dataframe thead th {\n",
       "        text-align: right;\n",
       "    }\n",
       "</style>\n",
       "<table border=\"1\" class=\"dataframe\">\n",
       "  <thead>\n",
       "    <tr style=\"text-align: right;\">\n",
       "      <th></th>\n",
       "      <th>model_id</th>\n",
       "      <th>MSE</th>\n",
       "      <th>MAE</th>\n",
       "    </tr>\n",
       "  </thead>\n",
       "  <tbody>\n",
       "    <tr>\n",
       "      <th>0</th>\n",
       "      <td>TimeXer_168_24</td>\n",
       "      <td>0.114065</td>\n",
       "      <td>0.207589</td>\n",
       "    </tr>\n",
       "    <tr>\n",
       "      <th>1</th>\n",
       "      <td>TimeXer_168_48</td>\n",
       "      <td>0.152094</td>\n",
       "      <td>0.243412</td>\n",
       "    </tr>\n",
       "    <tr>\n",
       "      <th>2</th>\n",
       "      <td>TimeXer_168_96</td>\n",
       "      <td>0.187396</td>\n",
       "      <td>0.273756</td>\n",
       "    </tr>\n",
       "    <tr>\n",
       "      <th>3</th>\n",
       "      <td>TimeXer_168_168</td>\n",
       "      <td>0.191931</td>\n",
       "      <td>0.277596</td>\n",
       "    </tr>\n",
       "  </tbody>\n",
       "</table>\n",
       "</div>"
      ],
      "text/plain": [
       "          model_id       MSE       MAE\n",
       "0   TimeXer_168_24  0.114065  0.207589\n",
       "1   TimeXer_168_48  0.152094  0.243412\n",
       "2   TimeXer_168_96  0.187396  0.273756\n",
       "3  TimeXer_168_168  0.191931  0.277596"
      ]
     },
     "execution_count": 1,
     "metadata": {},
     "output_type": "execute_result"
    }
   ],
   "source": [
    "import subprocess, os, re, pandas as pd\n",
    "\n",
    "pred_lengths = [24, 48, 96, 168]\n",
    "records = []\n",
    "\n",
    "for pred in pred_lengths:\n",
    "    model_id = f\"TimeXer_168_{pred}\"\n",
    "    res = subprocess.run(\n",
    "        f\"bash scripts/TimeXer.sh --pred_len {pred} --model_id {model_id}\",\n",
    "        shell=True, capture_output=True, text=True,\n",
    "        env={**os.environ, \"CUDA_VISIBLE_DEVICES\": \"0\"}\n",
    "    )\n",
    "    m = re.search(r\"mse[:\\s]*([\\d.eE+-]+).*mae[:\\s]*([\\d.eE+-]+)\", res.stdout, re.I | re.S)\n",
    "    if m:\n",
    "        mse, mae = map(float, m.groups())\n",
    "        records.append({\"model_id\": model_id, \"MSE\": mse, \"MAE\": mae})\n",
    "\n",
    "df = pd.DataFrame(records)\n",
    "df"
   ]
  }
 ],
 "metadata": {
  "kernelspec": {
   "display_name": ".venv",
   "language": "python",
   "name": "python3"
  },
  "language_info": {
   "codemirror_mode": {
    "name": "ipython",
    "version": 3
   },
   "file_extension": ".py",
   "mimetype": "text/x-python",
   "name": "python",
   "nbconvert_exporter": "python",
   "pygments_lexer": "ipython3",
   "version": "3.9.21"
  }
 },
 "nbformat": 4,
 "nbformat_minor": 5
}
