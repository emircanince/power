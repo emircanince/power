{
 "cells": [
  {
   "cell_type": "markdown",
   "id": "91396c39",
   "metadata": {},
   "source": [
    "## LWPR"
   ]
  },
  {
   "cell_type": "code",
   "execution_count": 34,
   "id": "0049f8e5",
   "metadata": {},
   "outputs": [
    {
     "name": "stdout",
     "output_type": "stream",
     "text": [
      "Fitting Points: 100%|████████████████████████| 576/576 [00:00<00:00, 603.18it/s]\n",
      "/Users/emircanince/Desktop/power/models/nonlinear_regression_models/LWPR_mean_solar.py:71: UserWarning: Tight layout not applied. The left and right margins cannot be made large enough to accommodate all Axes decorations.\n",
      "  plt.tight_layout()\n",
      "Figure(800x800)\n"
     ]
    }
   ],
   "source": [
    "!python models/nonlinear_regression_models/LWPR_mean_solar.py"
   ]
  },
  {
   "cell_type": "code",
   "execution_count": 35,
   "id": "0ea011ba",
   "metadata": {},
   "outputs": [
    {
     "name": "stdout",
     "output_type": "stream",
     "text": [
      "Fitting Points: 100%|████████████████████████| 576/576 [00:01<00:00, 341.24it/s]\n",
      "Figure(800x800)\n"
     ]
    }
   ],
   "source": [
    "!python models/nonlinear_regression_models/LWPR_mean_wind.py"
   ]
  },
  {
   "cell_type": "markdown",
   "id": "e37dfdd4",
   "metadata": {},
   "source": [
    "## DML"
   ]
  },
  {
   "cell_type": "code",
   "execution_count": 36,
   "id": "a3f5894a",
   "metadata": {},
   "outputs": [
    {
     "name": "stdout",
     "output_type": "stream",
     "text": [
      "Figure(600x600)                                                                 \n",
      "Figure(600x600)\n"
     ]
    }
   ],
   "source": [
    "!python models/double_machine_learning/DML_overall_solar.py"
   ]
  },
  {
   "cell_type": "code",
   "execution_count": 1,
   "id": "031f6f7c",
   "metadata": {},
   "outputs": [
    {
     "name": "stdout",
     "output_type": "stream",
     "text": [
      "Figure(600x600)\n"
     ]
    }
   ],
   "source": [
    "!python models/double_machine_learning/dml_vs_mean_plot_solar.py"
   ]
  },
  {
   "cell_type": "code",
   "execution_count": 3,
   "id": "671311f0",
   "metadata": {},
   "outputs": [
    {
     "name": "stdout",
     "output_type": "stream",
     "text": [
      "Figure(600x600)                                                                 \n",
      "Figure(600x600)\n"
     ]
    }
   ],
   "source": [
    "!python models/double_machine_learning/DML_overall_wind.py"
   ]
  },
  {
   "cell_type": "code",
   "execution_count": 4,
   "id": "17316013",
   "metadata": {},
   "outputs": [
    {
     "name": "stdout",
     "output_type": "stream",
     "text": [
      "Figure(600x600)\n"
     ]
    }
   ],
   "source": [
    "!python models/double_machine_learning/dml_vs_mean_plot_wind.py"
   ]
  }
 ],
 "metadata": {
  "kernelspec": {
   "display_name": ".venv",
   "language": "python",
   "name": "python3"
  },
  "language_info": {
   "codemirror_mode": {
    "name": "ipython",
    "version": 3
   },
   "file_extension": ".py",
   "mimetype": "text/x-python",
   "name": "python",
   "nbconvert_exporter": "python",
   "pygments_lexer": "ipython3",
   "version": "3.9.6"
  }
 },
 "nbformat": 4,
 "nbformat_minor": 5
}
