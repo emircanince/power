{
 "cells": [
  {
   "cell_type": "markdown",
   "id": "91396c39",
   "metadata": {},
   "source": [
    "## LWPR"
   ]
  },
  {
   "cell_type": "code",
   "execution_count": 34,
   "id": "0049f8e5",
   "metadata": {},
   "outputs": [
    {
     "name": "stdout",
     "output_type": "stream",
     "text": [
      "Fitting Points: 100%|████████████████████████| 576/576 [00:00<00:00, 603.18it/s]\n",
      "/Users/emircanince/Desktop/power/models/nonlinear_regression_models/LWPR_mean_solar.py:71: UserWarning: Tight layout not applied. The left and right margins cannot be made large enough to accommodate all Axes decorations.\n",
      "  plt.tight_layout()\n",
      "Figure(800x800)\n"
     ]
    }
   ],
   "source": [
    "!python models/nonlinear_regression_models/LWPR_mean_solar.py"
   ]
  },
  {
   "cell_type": "code",
   "execution_count": 35,
   "id": "0ea011ba",
   "metadata": {},
   "outputs": [
    {
     "name": "stdout",
     "output_type": "stream",
     "text": [
      "Fitting Points: 100%|████████████████████████| 576/576 [00:01<00:00, 341.24it/s]\n",
      "Figure(800x800)\n"
     ]
    }
   ],
   "source": [
    "!python models/nonlinear_regression_models/LWPR_mean_wind.py"
   ]
  },
  {
   "cell_type": "markdown",
   "id": "e37dfdd4",
   "metadata": {},
   "source": [
    "## DML"
   ]
  },
  {
   "cell_type": "code",
   "execution_count": 36,
   "id": "a3f5894a",
   "metadata": {},
   "outputs": [
    {
     "name": "stdout",
     "output_type": "stream",
     "text": [
      "Figure(600x600)                                                                 \n",
      "Figure(600x600)\n"
     ]
    }
   ],
   "source": [
    "!python models/double_machine_learning/DML_overall_solar.py"
   ]
  },
  {
   "cell_type": "code",
   "execution_count": 37,
   "id": "031f6f7c",
   "metadata": {},
   "outputs": [
    {
     "name": "stdout",
     "output_type": "stream",
     "text": [
      "Traceback (most recent call last):\n",
      "  File \"/Users/emircanince/Desktop/power/.venv/lib/python3.9/site-packages/pandas/core/indexes/base.py\", line 3805, in get_loc\n",
      "    return self._engine.get_loc(casted_key)\n",
      "  File \"index.pyx\", line 167, in pandas._libs.index.IndexEngine.get_loc\n",
      "  File \"index.pyx\", line 196, in pandas._libs.index.IndexEngine.get_loc\n",
      "  File \"pandas/_libs/hashtable_class_helper.pxi\", line 7081, in pandas._libs.hashtable.PyObjectHashTable.get_item\n",
      "  File \"pandas/_libs/hashtable_class_helper.pxi\", line 7089, in pandas._libs.hashtable.PyObjectHashTable.get_item\n",
      "KeyError: 'Date'\n",
      "\n",
      "The above exception was the direct cause of the following exception:\n",
      "\n",
      "Traceback (most recent call last):\n",
      "  File \"/Users/emircanince/Desktop/power/models/double_machine_learning/dml_vs_mean_plot_solar.py\", line 12, in <module>\n",
      "    df['Date'] = pd.to_datetime(df['Date'])\n",
      "  File \"/Users/emircanince/Desktop/power/.venv/lib/python3.9/site-packages/pandas/core/frame.py\", line 4102, in __getitem__\n",
      "    indexer = self.columns.get_loc(key)\n",
      "  File \"/Users/emircanince/Desktop/power/.venv/lib/python3.9/site-packages/pandas/core/indexes/base.py\", line 3812, in get_loc\n",
      "    raise KeyError(key) from err\n",
      "KeyError: 'Date'\n"
     ]
    }
   ],
   "source": [
    "!python models/double_machine_learning/dml_vs_mean_plot_solar.py"
   ]
  },
  {
   "cell_type": "code",
   "execution_count": 38,
   "id": "671311f0",
   "metadata": {},
   "outputs": [
    {
     "name": "stdout",
     "output_type": "stream",
     "text": [
      "Traceback (most recent call last):\n",
      "  File \"/Users/emircanince/Desktop/power/.venv/lib/python3.9/site-packages/pandas/core/indexes/base.py\", line 3805, in get_loc\n",
      "    return self._engine.get_loc(casted_key)\n",
      "  File \"index.pyx\", line 167, in pandas._libs.index.IndexEngine.get_loc\n",
      "  File \"index.pyx\", line 196, in pandas._libs.index.IndexEngine.get_loc\n",
      "  File \"pandas/_libs/hashtable_class_helper.pxi\", line 7081, in pandas._libs.hashtable.PyObjectHashTable.get_item\n",
      "  File \"pandas/_libs/hashtable_class_helper.pxi\", line 7089, in pandas._libs.hashtable.PyObjectHashTable.get_item\n",
      "KeyError: 'Date'\n",
      "\n",
      "The above exception was the direct cause of the following exception:\n",
      "\n",
      "Traceback (most recent call last):\n",
      "  File \"/Users/emircanince/Desktop/power/models/double_machine_learning/DML_overall_wind.py\", line 11, in <module>\n",
      "    df['Date'] = pd.to_datetime(df['Date'])\n",
      "  File \"/Users/emircanince/Desktop/power/.venv/lib/python3.9/site-packages/pandas/core/frame.py\", line 4102, in __getitem__\n",
      "    indexer = self.columns.get_loc(key)\n",
      "  File \"/Users/emircanince/Desktop/power/.venv/lib/python3.9/site-packages/pandas/core/indexes/base.py\", line 3812, in get_loc\n",
      "    raise KeyError(key) from err\n",
      "KeyError: 'Date'\n"
     ]
    }
   ],
   "source": [
    "!python models/double_machine_learning/DML_overall_wind.py"
   ]
  },
  {
   "cell_type": "code",
   "execution_count": 39,
   "id": "17316013",
   "metadata": {},
   "outputs": [
    {
     "name": "stdout",
     "output_type": "stream",
     "text": [
      "Traceback (most recent call last):\n",
      "  File \"/Users/emircanince/Desktop/power/.venv/lib/python3.9/site-packages/pandas/core/indexes/base.py\", line 3805, in get_loc\n",
      "    return self._engine.get_loc(casted_key)\n",
      "  File \"index.pyx\", line 167, in pandas._libs.index.IndexEngine.get_loc\n",
      "  File \"index.pyx\", line 196, in pandas._libs.index.IndexEngine.get_loc\n",
      "  File \"pandas/_libs/hashtable_class_helper.pxi\", line 7081, in pandas._libs.hashtable.PyObjectHashTable.get_item\n",
      "  File \"pandas/_libs/hashtable_class_helper.pxi\", line 7089, in pandas._libs.hashtable.PyObjectHashTable.get_item\n",
      "KeyError: 'Date'\n",
      "\n",
      "The above exception was the direct cause of the following exception:\n",
      "\n",
      "Traceback (most recent call last):\n",
      "  File \"/Users/emircanince/Desktop/power/models/double_machine_learning/dml_vs_mean_plot_wind.py\", line 11, in <module>\n",
      "    df['Date'] = pd.to_datetime(df['Date'])\n",
      "  File \"/Users/emircanince/Desktop/power/.venv/lib/python3.9/site-packages/pandas/core/frame.py\", line 4102, in __getitem__\n",
      "    indexer = self.columns.get_loc(key)\n",
      "  File \"/Users/emircanince/Desktop/power/.venv/lib/python3.9/site-packages/pandas/core/indexes/base.py\", line 3812, in get_loc\n",
      "    raise KeyError(key) from err\n",
      "KeyError: 'Date'\n"
     ]
    }
   ],
   "source": [
    "!python models/double_machine_learning/dml_vs_mean_plot_wind.py"
   ]
  }
 ],
 "metadata": {
  "kernelspec": {
   "display_name": ".venv",
   "language": "python",
   "name": "python3"
  },
  "language_info": {
   "codemirror_mode": {
    "name": "ipython",
    "version": 3
   },
   "file_extension": ".py",
   "mimetype": "text/x-python",
   "name": "python",
   "nbconvert_exporter": "python",
   "pygments_lexer": "ipython3",
   "version": "3.9.6"
  }
 },
 "nbformat": 4,
 "nbformat_minor": 5
}
