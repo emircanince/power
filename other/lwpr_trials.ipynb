{
 "cells": [
  {
   "cell_type": "code",
   "execution_count": null,
   "id": "06ad34ee",
   "metadata": {},
   "outputs": [
    {
     "name": "stdout",
     "output_type": "stream",
     "text": [
      "Fitting Points: 100%|████████████████████████| 576/576 [00:00<00:00, 605.66it/s]\n",
      "Figure(800x800)\n"
     ]
    }
   ],
   "source": [
    "!python models/nonlinear_regression_models/LWPR_mean_solar.py"
   ]
  },
  {
   "cell_type": "code",
   "execution_count": 12,
   "id": "39bd3088",
   "metadata": {},
   "outputs": [
    {
     "name": "stdout",
     "output_type": "stream",
     "text": [
      "MPS device is available.\n",
      "Fitting points (mean): 100%|█████████████████| 100/100 [00:00<00:00, 469.49it/s]\n",
      "Fitting points (quantiles): 100%|█████████████| 100/100 [00:13<00:00,  7.40it/s]\n",
      "Figure(800x600)\n"
     ]
    }
   ],
   "source": [
    "!python models/nonlinear_regression_models/LWPR_quantile_solar.py"
   ]
  }
 ],
 "metadata": {
  "kernelspec": {
   "display_name": ".venv",
   "language": "python",
   "name": "python3"
  },
  "language_info": {
   "codemirror_mode": {
    "name": "ipython",
    "version": 3
   },
   "file_extension": ".py",
   "mimetype": "text/x-python",
   "name": "python",
   "nbconvert_exporter": "python",
   "pygments_lexer": "ipython3",
   "version": "3.9.6"
  }
 },
 "nbformat": 4,
 "nbformat_minor": 5
}
