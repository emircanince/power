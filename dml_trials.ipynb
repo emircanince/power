{
 "cells": [
  {
   "cell_type": "code",
   "execution_count": 1,
   "id": "5947465f",
   "metadata": {},
   "outputs": [
    {
     "name": "stdout",
     "output_type": "stream",
     "text": [
      "juju time\n"
     ]
    }
   ],
   "source": [
    "print('juju time')"
   ]
  },
  {
   "cell_type": "code",
   "execution_count": 4,
   "id": "9de258b9",
   "metadata": {},
   "outputs": [
    {
     "name": "stdout",
     "output_type": "stream",
     "text": [
      "MPS device is available.\n",
      "Fitting points (mean): 100%|█████████████████| 100/100 [00:00<00:00, 306.95it/s]\n",
      "Fitting points (quantiles): 100%|█████████████| 100/100 [00:14<00:00,  6.75it/s]\n",
      "Figure(800x600)\n"
     ]
    }
   ],
   "source": [
    "!python models/nonlinear_regression_models/LWPR_quantile_wind.py"
   ]
  },
  {
   "cell_type": "code",
   "execution_count": 3,
   "id": "42858d2f",
   "metadata": {},
   "outputs": [
    {
     "name": "stdout",
     "output_type": "stream",
     "text": [
      "Window 1/17:   3%|▉                             | 3/100 [00:07<04:12,  2.60s/it]^C\n"
     ]
    }
   ],
   "source": [
    "!python models/double_machine_learning/DML_overall_wind.py"
   ]
  }
 ],
 "metadata": {
  "kernelspec": {
   "display_name": ".venv",
   "language": "python",
   "name": "python3"
  },
  "language_info": {
   "codemirror_mode": {
    "name": "ipython",
    "version": 3
   },
   "file_extension": ".py",
   "mimetype": "text/x-python",
   "name": "python",
   "nbconvert_exporter": "python",
   "pygments_lexer": "ipython3",
   "version": "3.9.6"
  }
 },
 "nbformat": 4,
 "nbformat_minor": 5
}
