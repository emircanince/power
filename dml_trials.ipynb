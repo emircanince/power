{
 "cells": [
  {
   "cell_type": "code",
   "execution_count": 4,
   "id": "5947465f",
   "metadata": {},
   "outputs": [
    {
     "name": "stdout",
     "output_type": "stream",
     "text": [
      "juju time\n"
     ]
    }
   ],
   "source": [
    "print('juju time')"
   ]
  },
  {
   "cell_type": "code",
   "execution_count": 12,
   "id": "9de258b9",
   "metadata": {},
   "outputs": [
    {
     "name": "stdout",
     "output_type": "stream",
     "text": [
      "CUDA device is available. Using CUDA.\n",
      "Fitting points (mean): 100%|██████████████████| 100/100 [00:02<00:00, 35.98it/s]\n",
      "Fitting points (quantiles): 100%|█████████████| 100/100 [26:18<00:00, 15.78s/it]\n",
      "findfont: Font family 'Helvetica' not found.\n",
      "findfont: Font family 'Helvetica' not found.\n",
      "findfont: Font family 'Helvetica' not found.\n",
      "findfont: Font family 'Helvetica' not found.\n",
      "findfont: Font family 'Helvetica' not found.\n",
      "findfont: Font family 'Helvetica' not found.\n",
      "findfont: Font family 'Helvetica' not found.\n",
      "findfont: Font family 'Helvetica' not found.\n",
      "findfont: Font family 'Helvetica' not found.\n",
      "findfont: Font family 'Helvetica' not found.\n",
      "findfont: Font family 'Helvetica' not found.\n",
      "findfont: Font family 'Helvetica' not found.\n",
      "findfont: Font family 'Helvetica' not found.\n",
      "findfont: Font family 'Helvetica' not found.\n",
      "findfont: Font family 'Helvetica' not found.\n",
      "findfont: Font family 'Helvetica' not found.\n",
      "findfont: Font family 'Helvetica' not found.\n",
      "findfont: Font family 'Helvetica' not found.\n",
      "findfont: Font family 'Helvetica' not found.\n",
      "findfont: Font family 'Helvetica' not found.\n",
      "Figure(800x600)\n"
     ]
    }
   ],
   "source": [
    "!python models/nonlinear_regression_models/LWPR_quantile_wind.py"
   ]
  },
  {
   "cell_type": "code",
   "execution_count": 8,
   "id": "42858d2f",
   "metadata": {},
   "outputs": [
    {
     "name": "stdout",
     "output_type": "stream",
     "text": [
      "Window 1/17:   0%|                                      | 0/100 [00:00<?, ?it/s]^C\n",
      "Traceback (most recent call last):                                              \n",
      "  File \"/home/RDC/inceemir/power/models/double_machine_learning/DML_overall_wind.py\", line 45, in <module>\n",
      "    df_residualized = residualize_data(random_subset, y='electricity_price')\n",
      "  File \"/home/RDC/inceemir/power/models/double_machine_learning/DML_utils_wind.py\", line 46, in residualize_data\n",
      "    data['price_resid'] = residualize_variable_kfold(\n",
      "  File \"/home/RDC/inceemir/power/models/double_machine_learning/DML_utils_wind.py\", line 30, in residualize_variable_kfold\n",
      "    model = lgb.train(params, lgb_train, num_boost_round=100)\n",
      "  File \"/home/RDC/inceemir/power/.venv/lib64/python3.9/site-packages/lightgbm/engine.py\", line 322, in train\n",
      "    booster.update(fobj=fobj)\n",
      "  File \"/home/RDC/inceemir/power/.venv/lib64/python3.9/site-packages/lightgbm/basic.py\", line 4155, in update\n",
      "    _LIB.LGBM_BoosterUpdateOneIter(\n",
      "KeyboardInterrupt\n"
     ]
    }
   ],
   "source": [
    "!python models/double_machine_learning/DML_overall_wind.py"
   ]
  }
 ],
 "metadata": {
  "kernelspec": {
   "display_name": ".venv",
   "language": "python",
   "name": "python3"
  },
  "language_info": {
   "codemirror_mode": {
    "name": "ipython",
    "version": 3
   },
   "file_extension": ".py",
   "mimetype": "text/x-python",
   "name": "python",
   "nbconvert_exporter": "python",
   "pygments_lexer": "ipython3",
   "version": "3.9.21"
  }
 },
 "nbformat": 4,
 "nbformat_minor": 5
}
