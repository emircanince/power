{
 "cells": [
  {
   "cell_type": "code",
   "execution_count": 1,
   "id": "5947465f",
   "metadata": {},
   "outputs": [
    {
     "name": "stdout",
     "output_type": "stream",
     "text": [
      "juju time\n"
     ]
    }
   ],
   "source": [
    "print('juju time')"
   ]
  },
  {
   "cell_type": "code",
   "execution_count": 4,
   "id": "9de258b9",
   "metadata": {},
   "outputs": [
    {
     "name": "stdout",
     "output_type": "stream",
     "text": [
      "MPS device is available.\n",
      "Fitting points (mean): 100%|█████████████████| 100/100 [00:00<00:00, 306.95it/s]\n",
      "Fitting points (quantiles): 100%|█████████████| 100/100 [00:14<00:00,  6.75it/s]\n",
      "Figure(800x600)\n"
     ]
    }
   ],
   "source": [
    "!python models/nonlinear_regression_models/LWPR_quantile_wind.py"
   ]
  },
  {
   "cell_type": "code",
   "execution_count": 3,
   "id": "42858d2f",
   "metadata": {},
   "outputs": [
    {
     "name": "stdout",
     "output_type": "stream",
     "text": [
      "Window 1/17:   3%|▉                             | 3/100 [00:07<04:12,  2.60s/it]^C\n"
     ]
    }
   ],
   "source": [
    "!python models/double_machine_learning/DML_overall_wind.py"
   ]
  },
  {
   "cell_type": "code",
   "execution_count": 2,
   "id": "4821387e",
   "metadata": {},
   "outputs": [
    {
     "data": {
      "text/html": [
       "<div>\n",
       "<style scoped>\n",
       "    .dataframe tbody tr th:only-of-type {\n",
       "        vertical-align: middle;\n",
       "    }\n",
       "\n",
       "    .dataframe tbody tr th {\n",
       "        vertical-align: top;\n",
       "    }\n",
       "\n",
       "    .dataframe thead th {\n",
       "        text-align: right;\n",
       "    }\n",
       "</style>\n",
       "<table border=\"1\" class=\"dataframe\">\n",
       "  <thead>\n",
       "    <tr style=\"text-align: right;\">\n",
       "      <th></th>\n",
       "      <th>Date</th>\n",
       "      <th>solar_forecast</th>\n",
       "      <th>wind_off_forecast</th>\n",
       "      <th>wind_on_forecast</th>\n",
       "      <th>total_load</th>\n",
       "      <th>solar_capacity</th>\n",
       "      <th>wind_off_capacity</th>\n",
       "      <th>wind_on_capacity</th>\n",
       "      <th>electricity_price</th>\n",
       "      <th>daylight_hours</th>\n",
       "      <th>...</th>\n",
       "      <th>gas_price</th>\n",
       "      <th>wind_forecast</th>\n",
       "      <th>wind_capacity</th>\n",
       "      <th>solar_penetration</th>\n",
       "      <th>wind_penetration</th>\n",
       "      <th>solar_binary</th>\n",
       "      <th>Hour</th>\n",
       "      <th>Day</th>\n",
       "      <th>Month</th>\n",
       "      <th>Year</th>\n",
       "    </tr>\n",
       "  </thead>\n",
       "  <tbody>\n",
       "    <tr>\n",
       "      <th>0</th>\n",
       "      <td>2022-01-01 00:00:00</td>\n",
       "      <td>0.0</td>\n",
       "      <td>23711.96</td>\n",
       "      <td>102410.79</td>\n",
       "      <td>169240.83</td>\n",
       "      <td>67479</td>\n",
       "      <td>8149</td>\n",
       "      <td>58014</td>\n",
       "      <td>50.05</td>\n",
       "      <td>8.04</td>\n",
       "      <td>...</td>\n",
       "      <td>72.752</td>\n",
       "      <td>126122.75</td>\n",
       "      <td>66163</td>\n",
       "      <td>0.0</td>\n",
       "      <td>74.52</td>\n",
       "      <td>0</td>\n",
       "      <td>0</td>\n",
       "      <td>1</td>\n",
       "      <td>1</td>\n",
       "      <td>2022</td>\n",
       "    </tr>\n",
       "    <tr>\n",
       "      <th>1</th>\n",
       "      <td>2022-01-01 01:00:00</td>\n",
       "      <td>0.0</td>\n",
       "      <td>23338.32</td>\n",
       "      <td>98510.90</td>\n",
       "      <td>161676.38</td>\n",
       "      <td>67479</td>\n",
       "      <td>8149</td>\n",
       "      <td>58014</td>\n",
       "      <td>41.33</td>\n",
       "      <td>8.04</td>\n",
       "      <td>...</td>\n",
       "      <td>72.752</td>\n",
       "      <td>121849.22</td>\n",
       "      <td>66163</td>\n",
       "      <td>0.0</td>\n",
       "      <td>75.37</td>\n",
       "      <td>0</td>\n",
       "      <td>1</td>\n",
       "      <td>1</td>\n",
       "      <td>1</td>\n",
       "      <td>2022</td>\n",
       "    </tr>\n",
       "    <tr>\n",
       "      <th>2</th>\n",
       "      <td>2022-01-01 02:00:00</td>\n",
       "      <td>0.0</td>\n",
       "      <td>22318.58</td>\n",
       "      <td>93902.99</td>\n",
       "      <td>156383.46</td>\n",
       "      <td>67479</td>\n",
       "      <td>8149</td>\n",
       "      <td>58014</td>\n",
       "      <td>43.22</td>\n",
       "      <td>8.04</td>\n",
       "      <td>...</td>\n",
       "      <td>72.752</td>\n",
       "      <td>116221.57</td>\n",
       "      <td>66163</td>\n",
       "      <td>0.0</td>\n",
       "      <td>74.32</td>\n",
       "      <td>0</td>\n",
       "      <td>2</td>\n",
       "      <td>1</td>\n",
       "      <td>1</td>\n",
       "      <td>2022</td>\n",
       "    </tr>\n",
       "    <tr>\n",
       "      <th>3</th>\n",
       "      <td>2022-01-01 03:00:00</td>\n",
       "      <td>0.0</td>\n",
       "      <td>21115.75</td>\n",
       "      <td>89315.26</td>\n",
       "      <td>152266.20</td>\n",
       "      <td>67479</td>\n",
       "      <td>8149</td>\n",
       "      <td>58014</td>\n",
       "      <td>45.46</td>\n",
       "      <td>8.04</td>\n",
       "      <td>...</td>\n",
       "      <td>72.752</td>\n",
       "      <td>110431.01</td>\n",
       "      <td>66163</td>\n",
       "      <td>0.0</td>\n",
       "      <td>72.52</td>\n",
       "      <td>0</td>\n",
       "      <td>3</td>\n",
       "      <td>1</td>\n",
       "      <td>1</td>\n",
       "      <td>2022</td>\n",
       "    </tr>\n",
       "    <tr>\n",
       "      <th>4</th>\n",
       "      <td>2022-01-01 04:00:00</td>\n",
       "      <td>0.0</td>\n",
       "      <td>19871.89</td>\n",
       "      <td>85151.19</td>\n",
       "      <td>152754.26</td>\n",
       "      <td>67479</td>\n",
       "      <td>8149</td>\n",
       "      <td>58014</td>\n",
       "      <td>37.67</td>\n",
       "      <td>8.04</td>\n",
       "      <td>...</td>\n",
       "      <td>72.752</td>\n",
       "      <td>105023.08</td>\n",
       "      <td>66163</td>\n",
       "      <td>0.0</td>\n",
       "      <td>68.75</td>\n",
       "      <td>0</td>\n",
       "      <td>4</td>\n",
       "      <td>1</td>\n",
       "      <td>1</td>\n",
       "      <td>2022</td>\n",
       "    </tr>\n",
       "  </tbody>\n",
       "</table>\n",
       "<p>5 rows × 21 columns</p>\n",
       "</div>"
      ],
      "text/plain": [
       "                  Date  solar_forecast  wind_off_forecast  wind_on_forecast  \\\n",
       "0  2022-01-01 00:00:00             0.0           23711.96         102410.79   \n",
       "1  2022-01-01 01:00:00             0.0           23338.32          98510.90   \n",
       "2  2022-01-01 02:00:00             0.0           22318.58          93902.99   \n",
       "3  2022-01-01 03:00:00             0.0           21115.75          89315.26   \n",
       "4  2022-01-01 04:00:00             0.0           19871.89          85151.19   \n",
       "\n",
       "   total_load  solar_capacity  wind_off_capacity  wind_on_capacity  \\\n",
       "0   169240.83           67479               8149             58014   \n",
       "1   161676.38           67479               8149             58014   \n",
       "2   156383.46           67479               8149             58014   \n",
       "3   152266.20           67479               8149             58014   \n",
       "4   152754.26           67479               8149             58014   \n",
       "\n",
       "   electricity_price  daylight_hours  ...  gas_price  wind_forecast  \\\n",
       "0              50.05            8.04  ...     72.752      126122.75   \n",
       "1              41.33            8.04  ...     72.752      121849.22   \n",
       "2              43.22            8.04  ...     72.752      116221.57   \n",
       "3              45.46            8.04  ...     72.752      110431.01   \n",
       "4              37.67            8.04  ...     72.752      105023.08   \n",
       "\n",
       "   wind_capacity  solar_penetration  wind_penetration  solar_binary  Hour  \\\n",
       "0          66163                0.0             74.52             0     0   \n",
       "1          66163                0.0             75.37             0     1   \n",
       "2          66163                0.0             74.32             0     2   \n",
       "3          66163                0.0             72.52             0     3   \n",
       "4          66163                0.0             68.75             0     4   \n",
       "\n",
       "   Day  Month  Year  \n",
       "0    1      1  2022  \n",
       "1    1      1  2022  \n",
       "2    1      1  2022  \n",
       "3    1      1  2022  \n",
       "4    1      1  2022  \n",
       "\n",
       "[5 rows x 21 columns]"
      ]
     },
     "execution_count": 2,
     "metadata": {},
     "output_type": "execute_result"
    }
   ],
   "source": [
    "import pandas as pd\n",
    "df = pd.read_csv('data/causal_data.csv')\n",
    "df.head()"
   ]
  },
  {
   "cell_type": "code",
   "execution_count": 4,
   "id": "9a47a357",
   "metadata": {},
   "outputs": [
    {
     "data": {
      "text/plain": [
       "(26301, 21)"
      ]
     },
     "execution_count": 4,
     "metadata": {},
     "output_type": "execute_result"
    }
   ],
   "source": [
    "df.shape"
   ]
  },
  {
   "cell_type": "code",
   "execution_count": 6,
   "id": "8fe6399e",
   "metadata": {},
   "outputs": [],
   "source": [
    "df = df[df['solar_penetration'] != 0]"
   ]
  },
  {
   "cell_type": "code",
   "execution_count": 7,
   "id": "acd7e5fb",
   "metadata": {},
   "outputs": [
    {
     "data": {
      "text/plain": [
       "(14771, 21)"
      ]
     },
     "execution_count": 7,
     "metadata": {},
     "output_type": "execute_result"
    }
   ],
   "source": [
    "df.shape"
   ]
  },
  {
   "cell_type": "code",
   "execution_count": 8,
   "id": "d9e46257",
   "metadata": {},
   "outputs": [
    {
     "data": {
      "image/png": "[encoded data removed]",
      "text/plain": [
       "<Figure size 640x480 with 1 Axes>"
      ]
     },
     "metadata": {},
     "output_type": "display_data"
    }
   ],
   "source": [
    "import matplotlib.pyplot as plt\n",
    "\n",
    "plt.hist(df.solar_penetration, bins=20, range=(0, 100), edgecolor='black')\n",
    "plt.xlabel('Solar Penetration (%)')\n",
    "plt.ylabel('Frequency')\n",
    "plt.title('Distribution of Solar Penetration')\n",
    "plt.grid(True)\n",
    "plt.tight_layout()\n",
    "plt.show()"
   ]
  },
  {
   "cell_type": "code",
   "execution_count": 10,
   "id": "5e1bacf6",
   "metadata": {},
   "outputs": [
    {
     "name": "stdout",
     "output_type": "stream",
     "text": [
      "       Bin Range  Count  Relative Frequency\n",
      "0      0.0 – 5.0   4357            0.294970\n",
      "1     5.0 – 10.0   1836            0.124298\n",
      "2    10.0 – 15.0   1277            0.086453\n",
      "3    15.0 – 20.0   1053            0.071288\n",
      "4    20.0 – 25.0    958            0.064857\n",
      "5    25.0 – 30.0    852            0.057681\n",
      "6    30.0 – 35.0    848            0.057410\n",
      "7    35.0 – 40.0    763            0.051655\n",
      "8    40.0 – 45.0    729            0.049353\n",
      "9    45.0 – 50.0    599            0.040552\n",
      "10   50.0 – 55.0    442            0.029923\n",
      "11   55.0 – 60.0    348            0.023560\n",
      "12   60.0 – 65.0    260            0.017602\n",
      "13   65.0 – 70.0    189            0.012795\n",
      "14   70.0 – 75.0    110            0.007447\n",
      "15   75.0 – 80.0     80            0.005416\n",
      "16   80.0 – 85.0     38            0.002573\n",
      "17   85.0 – 90.0     24            0.001625\n",
      "18   90.0 – 95.0      6            0.000406\n",
      "19  95.0 – 100.0      2            0.000135\n"
     ]
    },
    {
     "data": {
      "image/png": "[encoded data removed]",
      "text/plain": [
       "<Figure size 640x480 with 1 Axes>"
      ]
     },
     "metadata": {},
     "output_type": "display_data"
    }
   ],
   "source": [
    "import numpy as np\n",
    "import pandas as pd\n",
    "import matplotlib.pyplot as plt\n",
    "\n",
    "# Generate histogram data (same bins=20, range=(0, 100))\n",
    "counts, bin_edges = np.histogram(df['solar_penetration'], bins=20, range=(0,100))\n",
    "\n",
    "# Build a table: bin ranges and counts\n",
    "hist_table = pd.DataFrame({\n",
    "    'Bin Range': [f'{bin_edges[i]} – {bin_edges[i+1]}' for i in range(len(bin_edges)-1)],\n",
    "    'Count': counts\n",
    "})\n",
    "\n",
    "# Optional: add relative frequencies\n",
    "hist_table['Relative Frequency'] = hist_table['Count'] / hist_table['Count'].sum()\n",
    "\n",
    "# Print the table\n",
    "print(hist_table)\n",
    "\n",
    "# If you still want to display the histogram as well:\n",
    "plt.hist(df['solar_penetration'], bins=20, range=(0, 100), edgecolor='black')\n",
    "plt.xlabel('Solar Penetration (%)')\n",
    "plt.ylabel('Frequency')\n",
    "plt.title('Distribution of Solar Penetration')\n",
    "plt.grid(True)\n",
    "plt.tight_layout()\n",
    "plt.show()"
   ]
  },
  {
   "cell_type": "code",
   "execution_count": 9,
   "id": "13993a61",
   "metadata": {},
   "outputs": [
    {
     "data": {
      "image/png": "[encoded data removed]",
      "text/plain": [
       "<Figure size 640x480 with 1 Axes>"
      ]
     },
     "metadata": {},
     "output_type": "display_data"
    }
   ],
   "source": [
    "import matplotlib.pyplot as plt\n",
    "\n",
    "plt.hist(df.wind_penetration, bins=20, range=(0, 100), edgecolor='black')\n",
    "plt.xlabel('Wind Penetration (%)')\n",
    "plt.ylabel('Frequency')\n",
    "plt.title('Distribution of Wind Penetration')\n",
    "plt.grid(True)\n",
    "plt.tight_layout()\n",
    "plt.show()"
   ]
  }
 ],
 "metadata": {
  "kernelspec": {
   "display_name": ".venv",
   "language": "python",
   "name": "python3"
  },
  "language_info": {
   "codemirror_mode": {
    "name": "ipython",
    "version": 3
   },
   "file_extension": ".py",
   "mimetype": "text/x-python",
   "name": "python",
   "nbconvert_exporter": "python",
   "pygments_lexer": "ipython3",
   "version": "3.9.21"
  }
 },
 "nbformat": 4,
 "nbformat_minor": 5
}
